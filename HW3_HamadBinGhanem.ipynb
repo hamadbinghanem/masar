{
  "nbformat": 4,
  "nbformat_minor": 0,
  "metadata": {
    "colab": {
      "provenance": [],
      "authorship_tag": "ABX9TyMP1G7IJzeES4SYdKyMCef7",
      "include_colab_link": true
    },
    "kernelspec": {
      "name": "python3",
      "display_name": "Python 3"
    },
    "language_info": {
      "name": "python"
    }
  },
  "cells": [
    {
      "cell_type": "markdown",
      "metadata": {
        "id": "view-in-github",
        "colab_type": "text"
      },
      "source": [
        "<a href=\"https://colab.research.google.com/github/hamadbinghanem/masar/blob/main/HW3_HamadBinGhanem.ipynb\" target=\"_parent\"><img src=\"https://colab.research.google.com/assets/colab-badge.svg\" alt=\"Open In Colab\"/></a>"
      ]
    },
    {
      "cell_type": "code",
      "execution_count": 1,
      "metadata": {
        "colab": {
          "base_uri": "https://localhost:8080/"
        },
        "id": "qmli2lkiXFvA",
        "outputId": "199b041e-a59a-4f3e-fde3-fb85f9c7b21f"
      },
      "outputs": [
        {
          "output_type": "stream",
          "name": "stdout",
          "text": [
            "* \n",
            "* * \n",
            "* * * \n",
            "* * * * \n",
            "* * * * * \n",
            "* * * * \n",
            "* * * \n",
            "* * \n",
            "* \n"
          ]
        }
      ],
      "source": [
        "#1. Write a Python program to construct the following pattern, using a nested for loop. (Get the number of the 'stars' from the user).\n",
        "# Construct the pattern using nested for loops\n",
        "for i in range(1, 5 * 2):\n",
        "    if i <= 5:\n",
        "        print(\"* \" * i)\n",
        "    else:\n",
        "        print(\"* \" * (5 * 2 - i))\n",
        "\n"
      ]
    },
    {
      "cell_type": "code",
      "source": [
        "#2. Print the first 3 prime numbers that are greater than 10 but less than 99.\n",
        "\n",
        "\n",
        "def is_prime(num):\n",
        "    \"\"\"Check if a number is prime.\"\"\"\n",
        "    if num < 2:\n",
        "        return False\n",
        "    for i in range(2, int(num**0.5) + 1):\n",
        "        if num % i == 0:\n",
        "            return False\n",
        "    return True\n",
        "\n",
        "# Find the first 3 prime numbers greater than 10 but less than 99\n",
        "count = 0\n",
        "number = 11  # Start checking from 11\n",
        "\n",
        "while count < 3:\n",
        "    if is_prime(number):\n",
        "        print(number)\n",
        "        count += 1\n",
        "    number += 1"
      ],
      "metadata": {
        "colab": {
          "base_uri": "https://localhost:8080/"
        },
        "id": "aDI4iLWdajl-",
        "outputId": "4d55dcad-e912-4fb9-9a45-75f45244cf21"
      },
      "execution_count": 2,
      "outputs": [
        {
          "output_type": "stream",
          "name": "stdout",
          "text": [
            "11\n",
            "13\n",
            "17\n"
          ]
        }
      ]
    }
  ]
}