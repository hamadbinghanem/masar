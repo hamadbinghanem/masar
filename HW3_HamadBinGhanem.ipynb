{
  "nbformat": 4,
  "nbformat_minor": 0,
  "metadata": {
    "colab": {
      "provenance": [],
      "authorship_tag": "ABX9TyPccXq+i2ZDoiFtK6nid/nt",
      "include_colab_link": true
    },
    "kernelspec": {
      "name": "python3",
      "display_name": "Python 3"
    },
    "language_info": {
      "name": "python"
    }
  },
  "cells": [
    {
      "cell_type": "markdown",
      "metadata": {
        "id": "view-in-github",
        "colab_type": "text"
      },
      "source": [
        "<a href=\"https://colab.research.google.com/github/hamadbinghanem/masar/blob/main/HW3_HamadBinGhanem.ipynb\" target=\"_parent\"><img src=\"https://colab.research.google.com/assets/colab-badge.svg\" alt=\"Open In Colab\"/></a>"
      ]
    },
    {
      "cell_type": "code",
      "execution_count": null,
      "metadata": {
        "colab": {
          "base_uri": "https://localhost:8080/"
        },
        "id": "qmli2lkiXFvA",
        "outputId": "494f44ac-ef69-4616-95c2-40e25eecac47"
      },
      "outputs": [
        {
          "output_type": "stream",
          "name": "stdout",
          "text": [
            "* \n",
            "* * \n",
            "* * * \n",
            "* * * * \n",
            "* * * * * \n",
            "* * * * \n",
            "* * * \n",
            "* * \n",
            "* \n"
          ]
        }
      ],
      "source": [
        "# Construct the pattern using nested for loops\n",
        "for i in range(1, 5 * 2):\n",
        "    if i <= 5:\n",
        "        print(\"* \" * i)\n",
        "    else:\n",
        "        print(\"* \" * (5 * 2 - i))\n",
        "\n"
      ]
    }
  ]
}