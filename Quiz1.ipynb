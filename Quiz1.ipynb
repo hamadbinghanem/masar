{
  "nbformat": 4,
  "nbformat_minor": 0,
  "metadata": {
    "colab": {
      "provenance": [],
      "authorship_tag": "ABX9TyO/qtmgo0OIXiY3yjP8RErS",
      "include_colab_link": true
    },
    "kernelspec": {
      "name": "python3",
      "display_name": "Python 3"
    },
    "language_info": {
      "name": "python"
    }
  },
  "cells": [
    {
      "cell_type": "markdown",
      "metadata": {
        "id": "view-in-github",
        "colab_type": "text"
      },
      "source": [
        "<a href=\"https://colab.research.google.com/github/hamadbinghanem/masar/blob/main/Quiz1.ipynb\" target=\"_parent\"><img src=\"https://colab.research.google.com/assets/colab-badge.svg\" alt=\"Open In Colab\"/></a>"
      ]
    },
    {
      "cell_type": "code",
      "execution_count": 11,
      "metadata": {
        "colab": {
          "base_uri": "https://localhost:8080/"
        },
        "id": "ArOATkTlstLn",
        "outputId": "00816926-2e32-41fb-f0eb-bb25b6baf4e8"
      },
      "outputs": [
        {
          "output_type": "stream",
          "name": "stdout",
          "text": [
            "The pair that adds up to the target sum 10: [4, 6]\n"
          ]
        }
      ],
      "source": [
        "def find_pair_with_sum(arr, target_sum):\n",
        "    seen_numbers = {}  # Use a dictionary to store seen numbers with a specific difference\n",
        "\n",
        "    for num in arr:\n",
        "        difference = target_sum - num\n",
        "        if difference in seen_numbers:\n",
        "            # Found the pair\n",
        "            return [difference, num]\n",
        "        else:\n",
        "            seen_numbers[num] = True\n",
        "\n",
        "    # If no pair is found\n",
        "    return None\n",
        "\n",
        "# Specify the array and the target sum\n",
        "numbers_array = [1, 2, 3, 4, 5, 6, 7, 8, 9]\n",
        "target_sum = 10\n",
        "\n",
        "# Find the pair\n",
        "result = find_pair_with_sum(numbers_array, target_sum)\n",
        "\n",
        "if result:\n",
        "    print(f\"The pair that adds up to the target sum {target_sum}: {result}\")\n",
        "else:\n",
        "    print(\"No pair found that adds up to the given sum.\")\n"
      ]
    }
  ]
}