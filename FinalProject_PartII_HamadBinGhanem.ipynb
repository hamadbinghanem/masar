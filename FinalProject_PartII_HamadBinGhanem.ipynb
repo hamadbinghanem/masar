{
  "nbformat": 4,
  "nbformat_minor": 0,
  "metadata": {
    "colab": {
      "provenance": [],
      "include_colab_link": true
    },
    "kernelspec": {
      "name": "python3",
      "display_name": "Python 3"
    },
    "language_info": {
      "name": "python"
    }
  },
  "cells": [
    {
      "cell_type": "markdown",
      "metadata": {
        "id": "view-in-github",
        "colab_type": "text"
      },
      "source": [
        "<a href=\"https://colab.research.google.com/github/hamadbinghanem/masar/blob/main/FinalProject_PartII_HamadBinGhanem.ipynb\" target=\"_parent\"><img src=\"https://colab.research.google.com/assets/colab-badge.svg\" alt=\"Open In Colab\"/></a>"
      ]
    },
    {
      "cell_type": "markdown",
      "source": [
        "1. Loop:\n",
        "Question:\n",
        "Write a Python program that uses a 'for' loop to print all even numbers from 1 to 10. Then, use 'while' loop."
      ],
      "metadata": {
        "id": "s3ipcakz3HYv"
      }
    },
    {
      "cell_type": "code",
      "execution_count": null,
      "metadata": {
        "id": "Zox_Orcl3Eug",
        "colab": {
          "base_uri": "https://localhost:8080/"
        },
        "outputId": "2fdc46ad-149c-4464-a9f8-34e01cbed5c6"
      },
      "outputs": [
        {
          "output_type": "stream",
          "name": "stdout",
          "text": [
            "For loop even numbers: 2 4 6 8 10 \n",
            "While loop even numbers: 2 4 6 8 10 "
          ]
        }
      ],
      "source": [
        "# Using a for loop to print even numbers from 1 to 10 in one line\n",
        "print(\"For loop even numbers:\", end=\" \")\n",
        "for number in range(1, 11):\n",
        "    if number % 2 == 0:\n",
        "        print(number, end=\" \")\n",
        "print()\n",
        "\n",
        "# Using a while loop to print even numbers from 1 to 10 in one line\n",
        "print(\"While loop even numbers:\", end=\" \")\n",
        "number = 1\n",
        "while number <= 10:\n",
        "    if number % 2 == 0:\n",
        "        print(number, end=\" \")\n",
        "    number += 1"
      ]
    },
    {
      "cell_type": "markdown",
      "source": [
        "2. Control Flows:\n",
        "Question:\n",
        "Create a Python function named grade_classifier that takes a student's score as an argument and returns a string indicating their grade. Use the following criteria:\n",
        "\n",
        "Score >= 90: \"A\"\n",
        "80 <= Score < 90: \"B\"\n",
        "70 <= Score < 80: \"C\"\n",
        "60 <= Score < 70: \"D\"\n",
        "Score < 60: \"F\""
      ],
      "metadata": {
        "id": "2mJD3d1P3XwY"
      }
    },
    {
      "cell_type": "code",
      "source": [
        "grade = int(input(\"Please enter your grade: \"))\n",
        "def grade_classifier(grade):\n",
        "    return \"A\" if grade >= 90 else \"B\" if grade >= 80 else \"C\" if grade >= 70 else \"D\" if grade >= 60 else \"F\"\n",
        "print(grade_classifier(grade))\n",
        "\n"
      ],
      "metadata": {
        "id": "i0E9273Y3aat",
        "colab": {
          "base_uri": "https://localhost:8080/"
        },
        "outputId": "84df65f9-b7b6-4e72-9700-b3a2a5416bc4"
      },
      "execution_count": 2,
      "outputs": [
        {
          "output_type": "stream",
          "name": "stdout",
          "text": [
            "Please enter your grade: 70\n",
            "C\n"
          ]
        }
      ]
    },
    {
      "cell_type": "markdown",
      "source": [
        "3. If Conditions:\n",
        "Question:\n",
        "Write a Python program that prompts the user to enter their age. Use if-elif-else statements to categorize and print the user's age group as follows:\n",
        "\n",
        "If the age is less than 13, print \"Child.\"\n",
        "If the age is between 13 and 19 (inclusive), print \"Teenager.\"\n",
        "If the age is between 20 and 59 (inclusive), print \"Adult.\"\n",
        "If the age is 60 or older, print \"Senior Citizen.\""
      ],
      "metadata": {
        "id": "w7EeMAF83cHA"
      }
    },
    {
      "cell_type": "code",
      "source": [
        "# Prompt the user to enter their age\n",
        "age = int(input(\"Please enter your age: \"))\n",
        "\n",
        "# Categorize and print the user's age group\n",
        "if age < 13:\n",
        "    print(\"Child.\")\n",
        "elif age <= 19:\n",
        "    print(\"Teenager.\")\n",
        "elif age <= 59:\n",
        "    print(\"Adult.\")\n",
        "else:\n",
        "    print(\"Senior Citizen.\")\n"
      ],
      "metadata": {
        "id": "FUEtX83a3o9C",
        "colab": {
          "base_uri": "https://localhost:8080/"
        },
        "outputId": "e37c3b3f-d85d-4151-963f-b2c98cb0e3c5"
      },
      "execution_count": 4,
      "outputs": [
        {
          "output_type": "stream",
          "name": "stdout",
          "text": [
            "Please enter your age: 5\n",
            "Child.\n"
          ]
        }
      ]
    },
    {
      "cell_type": "markdown",
      "source": [
        "4. Functions:\n",
        "Question:\n",
        "Define a Python function named multiply_numbers that takes two parameters (num1 and num2) and returns their product. Test the function with values 5 and 7."
      ],
      "metadata": {
        "id": "y9x9lhW63t1R"
      }
    },
    {
      "cell_type": "code",
      "source": [
        "num1 = int(input(\"Please enter num1: \"))\n",
        "num2 = int(input(\"Please enter num2: \"))\n",
        "def multiply_numbers(num1, num2):\n",
        "    return num1 * num2\n",
        "\n",
        "result = multiply_numbers(num1, num2)\n",
        "print(result)\n"
      ],
      "metadata": {
        "id": "kHuQ4NMa3xqT",
        "colab": {
          "base_uri": "https://localhost:8080/"
        },
        "outputId": "022af792-bc25-4f7f-d0df-ddfcfe967f51"
      },
      "execution_count": 5,
      "outputs": [
        {
          "output_type": "stream",
          "name": "stdout",
          "text": [
            "Please enter num1: 5\n",
            "Please enter num2: 10\n",
            "50\n"
          ]
        }
      ]
    },
    {
      "cell_type": "markdown",
      "source": [
        "5.\n",
        "Write a Python program that does the following:\n",
        "\n",
        "Prompts the user to enter a number (user_num).\n",
        "Uses a loop to print all numbers from 1 to user_num (inclusive) that are divisible by 3.\n"
      ],
      "metadata": {
        "id": "i8tO0E8U3zBB"
      }
    },
    {
      "cell_type": "code",
      "source": [
        "# Prompt the user to enter a number\n",
        "max_num = int(input(\"Please enter a Max number: \"))\n",
        "count = 0\n",
        "print(\"all numbers:\", end=\" \")\n",
        "# Use a loop to print numbers from 1 to max_num that are divisible by 3\n",
        "for number in range(1, max_num + 1):\n",
        "    if number % 3 == 0:\n",
        "              # Increment the counter\n",
        "        count += 1\n",
        "        print(number, end=\" \")\n",
        "print()\n",
        "print(f\"Total numbers divisible by 3 from 1 to {max_num}: {count}\")\n"
      ],
      "metadata": {
        "id": "i4Q2MOTY31tM",
        "colab": {
          "base_uri": "https://localhost:8080/"
        },
        "outputId": "b1ac171d-aea3-48f7-9254-a6c894d4743d"
      },
      "execution_count": 6,
      "outputs": [
        {
          "output_type": "stream",
          "name": "stdout",
          "text": [
            "Please enter a Max number: 100\n",
            "all numbers: 3 6 9 12 15 18 21 24 27 30 33 36 39 42 45 48 51 54 57 60 63 66 69 72 75 78 81 84 87 90 93 96 99 \n",
            "Total numbers divisible by 3 from 1 to 100: 33\n"
          ]
        }
      ]
    }
  ]
}