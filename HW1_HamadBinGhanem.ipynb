{
  "nbformat": 4,
  "nbformat_minor": 0,
  "metadata": {
    "colab": {
      "provenance": [],
      "authorship_tag": "ABX9TyOoZJMsuTZGbBZKm+gboXZY",
      "include_colab_link": true
    },
    "kernelspec": {
      "name": "python3",
      "display_name": "Python 3"
    },
    "language_info": {
      "name": "python"
    }
  },
  "cells": [
    {
      "cell_type": "markdown",
      "metadata": {
        "id": "view-in-github",
        "colab_type": "text"
      },
      "source": [
        "<a href=\"https://colab.research.google.com/github/hamadbinghanem/masar/blob/main/HW1_HamadBinGhanem.ipynb\" target=\"_parent\"><img src=\"https://colab.research.google.com/assets/colab-badge.svg\" alt=\"Open In Colab\"/></a>"
      ]
    },
    {
      "cell_type": "code",
      "execution_count": 1,
      "metadata": {
        "colab": {
          "base_uri": "https://localhost:8080/"
        },
        "id": "APtcTdBRyGUk",
        "outputId": "c829251e-3c68-4696-b665-d8dc26637855"
      },
      "outputs": [
        {
          "output_type": "stream",
          "name": "stdout",
          "text": [
            "Hi Everyone.My name is Hamad Bin Ghanem,I am 33years old, and I am Civil Engineering\n"
          ]
        }
      ],
      "source": [
        "\n",
        "#تعريف لمتغير الاسم\n",
        "name = 'Hamad Bin Ghanem'\n",
        "\n",
        "#تعريف لمتغير العمر\n",
        "age = '33'\n",
        "\n",
        "#أمر الطباعة\n",
        "\n",
        "print(f'Hi Everyone.My name is {name},I am {age} years old, and I am Civil Engineering')\n"
      ]
    },
    {
      "cell_type": "code",
      "source": [],
      "metadata": {
        "id": "hxE94oOnzMS6"
      },
      "execution_count": null,
      "outputs": []
    }
  ]
}